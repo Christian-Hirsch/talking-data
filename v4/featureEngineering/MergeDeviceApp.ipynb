{
 "metadata": {
  "name": "",
  "signature": "sha256:a15964a90e0d40d67f5efbd85daa67826e62af66966f2d8a0643b1f761748bf9"
 },
 "nbformat": 3,
 "nbformat_minor": 0,
 "worksheets": [
  {
   "cells": [
    {
     "cell_type": "heading",
     "level": 1,
     "metadata": {},
     "source": [
      "TalkingData -- Feature Engineering"
     ]
    },
    {
     "cell_type": "markdown",
     "metadata": {},
     "source": [
      "Before we can tap the potential that is buried in the app data, we need to join the apps to the device ids."
     ]
    },
    {
     "cell_type": "code",
     "collapsed": false,
     "input": [
      "import numpy as np\n",
      "import pandas as pd\n",
      "import pickle\n",
      "\n",
      "#path to data\n",
      "DATA_PATH = \"../../../input/\""
     ],
     "language": "python",
     "metadata": {},
     "outputs": [],
     "prompt_number": 1
    },
    {
     "cell_type": "markdown",
     "metadata": {},
     "source": [
      "Next, we load the data."
     ]
    },
    {
     "cell_type": "code",
     "collapsed": false,
     "input": [
      "train = pd.read_csv(\"{0}gender_age_train.csv\".format(DATA_PATH))\n",
      "test = pd.read_csv(\"{0}gender_age_test.csv\".format(DATA_PATH))\n",
      "events = pd.read_csv(\"{0}events.csv\".format(DATA_PATH))\n",
      "apps = pd.read_csv(\"{0}app_events.csv\".format(DATA_PATH))\n",
      "apps['app_id'] = apps['app_id'].astype(str)"
     ],
     "language": "python",
     "metadata": {},
     "outputs": [],
     "prompt_number": 2
    },
    {
     "cell_type": "markdown",
     "metadata": {},
     "source": [
      "We merge first with the events data..."
     ]
    },
    {
     "cell_type": "code",
     "collapsed": false,
     "input": [
      "train_test = pd.concat([train['device_id'], test['device_id']])\n",
      "train_test_event = pd.merge(train_test.to_frame(), events[['device_id', 'event_id']], 'inner', on = 'device_id').drop_duplicates()"
     ],
     "language": "python",
     "metadata": {},
     "outputs": []
    },
    {
     "cell_type": "markdown",
     "metadata": {},
     "source": [
      "... and afterwards with the apps data."
     ]
    },
    {
     "cell_type": "code",
     "collapsed": false,
     "input": [
      "train_test_app = train_test_event.merge( apps,'left', on = 'event_id').drop('event_id', axis = 1).drop_duplicates()"
     ],
     "language": "python",
     "metadata": {},
     "outputs": []
    },
    {
     "cell_type": "markdown",
     "metadata": {},
     "source": [
      "Finally, we pickle the merged dataframe."
     ]
    },
    {
     "cell_type": "code",
     "collapsed": false,
     "input": [
      "pickle.dump(train_test_app, open('{0}device_apps_inner'.format(DATA_PATH), 'wb'))\n"
     ],
     "language": "python",
     "metadata": {},
     "outputs": []
    }
   ],
   "metadata": {}
  }
 ]
}