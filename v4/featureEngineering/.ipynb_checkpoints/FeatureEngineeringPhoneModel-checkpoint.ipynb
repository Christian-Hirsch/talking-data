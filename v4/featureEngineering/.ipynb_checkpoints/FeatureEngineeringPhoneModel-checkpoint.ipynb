{
 "metadata": {
  "name": "",
  "signature": "sha256:74cfb57fe61e93b12ea0c47cfdbf876bd3befe571d8e8f5bae27a6518659ca2d"
 },
 "nbformat": 3,
 "nbformat_minor": 0,
 "worksheets": [
  {
   "cells": [
    {
     "cell_type": "heading",
     "level": 1,
     "metadata": {},
     "source": [
      "Feature Engineering -- Brand and device model"
     ]
    },
    {
     "cell_type": "markdown",
     "metadata": {},
     "source": [
      "In the first round of feature engineering, we extract features from the phone brand and the device model. The most immediate approach is to label-encode these two columns. As an additional feature, we add the regularized class histograms proposed in https://www.kaggle.com/dvasyukova/talkingdata-mobile-user-demographics/brand-and-model-based-benchmarks."
     ]
    },
    {
     "cell_type": "code",
     "collapsed": false,
     "input": [
      "import numpy as np\n",
      "import math\n",
      "import pickle \n",
      "import pandas as pd\n",
      "\n",
      "from sklearn.base import BaseEstimator, TransformerMixin\n",
      "from sklearn.cross_validation import train_test_split\n",
      "from sklearn.preprocessing import LabelEncoder\n",
      "\n",
      "#path to data and constructed features\n",
      "DATA_PATH = \"../../../input/\"\n",
      "FEATURE_PATH = \"../../../features/\"\n",
      "\n",
      "#parameter for crosstab feature; minimum number of occurrences for a brand to be considered\n",
      "NMIN = 50\n",
      "\n",
      "#seed for randomness\n",
      "SEED = 1747\n",
      "\n",
      "#number of classes\n",
      "NCLASSES = 12"
     ],
     "language": "python",
     "metadata": {},
     "outputs": [],
     "prompt_number": 2
    },
    {
     "cell_type": "markdown",
     "metadata": {},
     "source": [
      "Next, we load train, test and phone data."
     ]
    },
    {
     "cell_type": "code",
     "collapsed": false,
     "input": [
      "train = pd.read_csv('{0}gender_age_train.csv'.format(DATA_PATH))[['device_id', 'group']].set_index('device_id')\n",
      "test = pd.read_csv('{0}gender_age_test.csv'.format(DATA_PATH))['device_id']\n",
      "phone_brand = pd.read_csv('{0}phone_brand_device_model.csv'.format(DATA_PATH)).groupby('device_id', sort = False).first()\n",
      "train_test = np.hstack([train.index, test])\n",
      "phone_brand = pd.Series(train_test, name = 'device_id').to_frame().merge(phone_brand, 'left', \n",
      "                                                           left_on = 'device_id', right_index = True).set_index('device_id')"
     ],
     "language": "python",
     "metadata": {},
     "outputs": [],
     "prompt_number": 3
    },
    {
     "cell_type": "markdown",
     "metadata": {},
     "source": [
      "We relabel the device-ids to obtain a more legible representation and merge the phone data."
     ]
    },
    {
     "cell_type": "code",
     "collapsed": false,
     "input": [
      "dec = LabelEncoder().fit(train_test)\n",
      "[train_test, train.index, test.index, phone_brand.index] = [dec.transform(data) for data in\n",
      "                                                            [train_test, train.index, test, phone_brand.index]]"
     ],
     "language": "python",
     "metadata": {},
     "outputs": [],
     "prompt_number": 4
    },
    {
     "cell_type": "markdown",
     "metadata": {},
     "source": [
      "We add the prefix of the device model as new feature."
     ]
    },
    {
     "cell_type": "code",
     "collapsed": false,
     "input": [
      "phone_brand['device_pref'] = phone_brand['device_model'].apply(lambda model: model[0:2])"
     ],
     "language": "python",
     "metadata": {},
     "outputs": [],
     "prompt_number": 5
    },
    {
     "cell_type": "heading",
     "level": 2,
     "metadata": {},
     "source": [
      "Label Encodings (3 features)"
     ]
    },
    {
     "cell_type": "markdown",
     "metadata": {},
     "source": [
      "To generate the first features, we label-encode the train-test data."
     ]
    },
    {
     "cell_type": "code",
     "collapsed": false,
     "input": [
      "phone_brand_enc = phone_brand.copy()\n",
      "phone_brand_enc = phone_brand_enc.apply(lambda col: LabelEncoder().fit_transform(col), axis = 0)"
     ],
     "language": "python",
     "metadata": {},
     "outputs": [],
     "prompt_number": 6
    },
    {
     "cell_type": "heading",
     "level": 2,
     "metadata": {},
     "source": [
      "Crosstab encoder (3 * 13 features)"
     ]
    },
    {
     "cell_type": "markdown",
     "metadata": {},
     "source": [
      "In addition to plain ohe, we implement an idea from https://www.kaggle.com/dvasyukova/talkingdata-mobile-user-demographics/brand-and-model-based-benchmarks, which suggests to characterize a brand or device model by its gender-age histogram. "
     ]
    },
    {
     "cell_type": "markdown",
     "metadata": {},
     "source": [
      "To set up the crosstab feature, we need to do a blending-type partition."
     ]
    },
    {
     "cell_type": "code",
     "collapsed": false,
     "input": [
      "def blend_split(df, labels):\n",
      "    #first, generate validation set\n",
      "    df_train, _, labels_train, _ = train_test_split(df, labels, stratify = labels, train_size = 0.8, random_state = SEED)\n",
      "    \n",
      "    #second, split in stacking folds\n",
      "    return  train_test_split(df_train, labels_train, stratify = labels_train, train_size = 0.5, random_state = SEED)"
     ],
     "language": "python",
     "metadata": {},
     "outputs": [],
     "prompt_number": 7
    },
    {
     "cell_type": "markdown",
     "metadata": {},
     "source": [
      "We generate two splits, one for all events and the other one only for events with devices."
     ]
    },
    {
     "cell_type": "code",
     "collapsed": false,
     "input": [
      "train_event_indices = dec.transform(pickle.load(open('{0}train_event_ids'.format(DATA_PATH),'rb')))\n",
      "test_event_indices = dec.transform(pickle.load(open('{0}test_event_ids'.format(DATA_PATH),'rb')))\n",
      "train_test_event_indices = np.hstack([train_event_indices, test_event_indices])\n",
      "train_mask = train.index.isin(train_event_indices)\n",
      "\n",
      "labels_all = train['group']\n",
      "labels_event = labels_all[train_mask]\n",
      "\n",
      "blend_all = blend_split(phone_brand[phone_brand.index.isin(train.index)], labels_all)\n",
      "blend_events_raw = blend_split(phone_brand[phone_brand.index.isin(train_event_indices)], labels_event)"
     ],
     "language": "python",
     "metadata": {},
     "outputs": [],
     "prompt_number": 8
    },
    {
     "cell_type": "markdown",
     "metadata": {},
     "source": [
      "We also consider elements that are not associated with events."
     ]
    },
    {
     "cell_type": "code",
     "collapsed": false,
     "input": [
      "residual_indices = train.index.difference(train_event_indices)\n",
      "y_res = train[train.index.isin(residual_indices)]['group']\n",
      "phone_brand_res = phone_brand[phone_brand.index.isin(residual_indices)]\n",
      "\n",
      "blend_events = [pd.concat([blend_events_raw[0], phone_brand_res], axis = 0), \n",
      "                pd.concat([blend_events_raw[1], phone_brand_res], axis = 0),\n",
      "                np.hstack([blend_events_raw[2], y_res]), \n",
      "                np.hstack([blend_events_raw[3], y_res])\n",
      "                ]"
     ],
     "language": "python",
     "metadata": {},
     "outputs": [],
     "prompt_number": 9
    },
    {
     "cell_type": "markdown",
     "metadata": {},
     "source": [
      "Now, we define a transformer to compute the crosstab-features on the blending folds. In order to obtain features that are not constraint to [0,1], we consider the logs of the class probabilities."
     ]
    },
    {
     "cell_type": "code",
     "collapsed": false,
     "input": [
      "class CrossTabEncoder(BaseEstimator, TransformerMixin):\n",
      "    \"\"\"CrossTabEncoder\n",
      "    A CrossTabEncoder characterizes a feature by its crosstab dataframe.\n",
      "    \n",
      "    Parameters\n",
      "    ----------\n",
      "    \"\"\"\n",
      "\n",
      "    def fit(self, blend_data, label_name):\n",
      "        \"\"\"For each class of the considered feature, the empirical histogram for the prediction classes is computed. \n",
      "        \n",
      "        Parameters\n",
      "        ----------\n",
      "        blend_data : data used for the histogram computation\n",
      "        \"\"\"        \n",
      "        #compute the prior\n",
      "        prior =  pd.Series(labels_all).value_counts(normalize = True).sort_index().values\n",
      "        \n",
      "        self.data = [features[label_name] for features in blend_data[0:2]]\n",
      "        self.crosstabs = [compute_crosstabs(data, classes, prior) for data, classes in zip(self.data, blend_data[2:4])]\n",
      "        self.crosstab_total = compute_crosstabs(pd.concat(self.data, axis = 0), np.hstack(blend_data[2:4]), prior)\n",
      "        \n",
      "        return self\n",
      "\n",
      "    def transform(self, data):\n",
      "        \"\"\"The precomputed histograms are joined as features to the given data set.\n",
      "        \n",
      "        Parameters\n",
      "        ----------\n",
      "        X : array-like object\n",
      "        \n",
      "        Returns\n",
      "        -------\n",
      "        Transformed dataset.\n",
      "        \"\"\"\n",
      "        feat = [feature.to_frame().merge(crosstab,'left',left_on = feature.name, right_index = True ).drop(feature.name, axis = 1) \n",
      "                for  feature, crosstab in zip(self.data, self.crosstabs[::-1])]\n",
      "  \n",
      "       \n",
      "        merge_12 = data.to_frame().merge(pd.concat(feat, axis = 0).groupby(level = 0, sort = False).first(), \n",
      "                                         'left', left_index = True, right_index = True).drop(data.name, axis = 1)\n",
      "        merge_total = pd.merge(data.to_frame(), self.crosstab_total, 'left', \n",
      "                        left_on = data.name, right_index = True).drop(data.name, axis = 1).fillna(0)\n",
      "        \n",
      "        return   merge_12.combine_first(merge_total)\n",
      "\n",
      "def compute_crosstabs(tab_0, tab_1, prior):\n",
      "    \"\"\"\n",
      "    compute the log of relative crosstabs regularized by a prior\n",
      "    \"\"\"\n",
      "    return pd.crosstab(tab_0, tab_1).apply(lambda row: compute_log_probs(row, prior), axis = 1)  \n",
      "    \n",
      "def compute_log_probs(row, prior):    \n",
      "    \"\"\"helper function for computing regularized log probabilities\n",
      "    \"\"\"\n",
      "    #add 1 to avoid taking logarithm of 0\n",
      "    row = row + 1\n",
      "    \n",
      "    #smooth out the probabilities by using the prior\n",
      "    row_sum = row.sum()\n",
      "    weight = min(row_sum, NMIN)/NMIN\n",
      "    row = (1 - weight) * prior + weight * (row/row_sum)\n",
      "        \n",
      "    #compute the log ratios of class probabilities and the popularity of the feature \n",
      "    row = row.apply(lambda y: math.log(y) - math.log(1.0/NCLASSES))\n",
      "    \n",
      "    return row"
     ],
     "language": "python",
     "metadata": {},
     "outputs": [],
     "prompt_number": 99
    },
    {
     "cell_type": "markdown",
     "metadata": {},
     "source": [
      "Next, we define a function to compute crosstab-encoders for multiple columns."
     ]
    },
    {
     "cell_type": "code",
     "collapsed": false,
     "input": [
      "def generate_crosstab_features(blend_data, data):\n",
      "    ctes = [CrossTabEncoder().fit(blend_data, column) for column in data.columns]\n",
      "    return pd.concat([cte.transform(data[column]) for column, cte in zip(data.columns, ctes)], axis = 1)"
     ],
     "language": "python",
     "metadata": {},
     "outputs": [],
     "prompt_number": 85
    },
    {
     "cell_type": "markdown",
     "metadata": {},
     "source": [
      "We generate the cross-tab features for all devices and the events-devices."
     ]
    },
    {
     "cell_type": "code",
     "collapsed": false,
     "input": [
      "crosstab_all = generate_crosstab_features(blend_all, phone_brand)\n",
      "crosstab_events = generate_crosstab_features(blend_events, phone_brand[phone_brand.index.isin(train_test_event_indices)])"
     ],
     "language": "python",
     "metadata": {},
     "outputs": [],
     "prompt_number": 100
    },
    {
     "cell_type": "markdown",
     "metadata": {},
     "source": [
      "We also record the column names."
     ]
    },
    {
     "cell_type": "code",
     "collapsed": false,
     "input": [
      "crosstab_names = ['{0} {1}'.format(pref,suf) for pref,suf in zip(phone_brand.columns.repeat(NCLASSES).values,crosstab_all.columns)]"
     ],
     "language": "python",
     "metadata": {},
     "outputs": [],
     "prompt_number": 104
    },
    {
     "cell_type": "heading",
     "level": 2,
     "metadata": {},
     "source": [
      "Concluding feature union"
     ]
    },
    {
     "cell_type": "markdown",
     "metadata": {},
     "source": [
      "Finally, we collect all features, and their names and persist them to disk."
     ]
    },
    {
     "cell_type": "code",
     "collapsed": false,
     "input": [
      "phone_model_features = np.hstack([phone_brand_enc, crosstab_all])\n",
      "phone_model_features_events = np.hstack([phone_brand_enc[phone_brand_enc.index.isin(train_test_event_indices)], \n",
      "                                                               crosstab_events])\n",
      "phone_model_names = np.hstack([phone_brand.columns, crosstab_names])\n",
      "\n",
      "pickle.dump(phone_model_features, open('{0}phone_model_features.p'.format(FEATURE_PATH), 'wb'))\n",
      "pickle.dump(phone_model_names, open('{0}phone_model_features_names.p'.format(FEATURE_PATH), 'wb'))\n",
      "pickle.dump(phone_model_features_events, open('{0}phone_model_features_event.p'.format(FEATURE_PATH), 'wb'))\n",
      "pickle.dump(phone_model_names, open('{0}phone_model_features_names_event.p'.format(FEATURE_PATH), 'wb'))\n"
     ],
     "language": "python",
     "metadata": {},
     "outputs": [],
     "prompt_number": 105
    },
    {
     "cell_type": "code",
     "collapsed": false,
     "input": [],
     "language": "python",
     "metadata": {},
     "outputs": []
    }
   ],
   "metadata": {}
  }
 ]
}