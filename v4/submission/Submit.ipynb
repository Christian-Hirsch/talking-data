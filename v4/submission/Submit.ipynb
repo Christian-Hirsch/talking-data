{
 "metadata": {
  "name": "",
  "signature": "sha256:4d8c5d6b6da73e1b1f2bde3bf65f26956630d83f79595b911f11f488f2ad4a5f"
 },
 "nbformat": 3,
 "nbformat_minor": 0,
 "worksheets": [
  {
   "cells": [
    {
     "cell_type": "heading",
     "level": 1,
     "metadata": {},
     "source": [
      "TalkingData -- Submission"
     ]
    },
    {
     "cell_type": "markdown",
     "metadata": {},
     "source": [
      "In this notebook we generate submission based on the stacked features."
     ]
    },
    {
     "cell_type": "code",
     "collapsed": false,
     "input": [
      "import numpy as np\n",
      "import pandas as pd\n",
      "import pickle\n",
      "import xgboost as xgb\n",
      "import time \n",
      "    \n",
      "from scipy import sparse\n",
      "from sklearn.preprocessing import LabelEncoder\n",
      "from sklearn.pipeline import Pipeline\n",
      "\n",
      "#path to data, features and classifiers\n",
      "DATA_PATH = \"../../../input/\"\n",
      "FEATURE_PATH = \"../../../features/\"\n",
      "CLF_PATH = \"../../../models/\"\n",
      "\n",
      "#number of classes considered\n",
      "NCLASSES = 12\n",
      "\n",
      "#random seed\n",
      "SEED = 1747\n",
      "\n",
      "#do not allow probabilities below EPS\n",
      "EPS = 0.001\n",
      "\n",
      "#age_gender categories\n",
      "cats = ['F23-', 'F24-26', 'F27-28', 'F29-32', 'F33-42', 'F43+', 'M22-', 'M23-26', 'M27-28', 'M29-31', 'M32-38', 'M39+']\n",
      "\n",
      "#float format used in the submission file\n",
      "FLOAT_FORMAT = '%.3f'\n",
      "\n",
      "############################################\n",
      "###XGB PARAMETERS\n",
      "############################################\n",
      "\n",
      "#parameters for xgb fitting for devices without events\n",
      "FIT_PARAMS_GENERAL = {\n",
      "'verbose_eval': 50, \n",
      "'num_boost_round': 120,\n",
      "}\n",
      "\n",
      "#parameters for xgb fitting for devices with events\n",
      "FIT_PARAMS_EVENTS = {\n",
      "'verbose_eval': 100, \n",
      "'num_boost_round': 550,\n",
      "}\n",
      "\n",
      "#params for xgb\n",
      "HYPER_PARAMS = {\n",
      "'objective' :'multi:softprob',\n",
      "\"num_class\": 12,\n",
      "'eval_metric': 'mlogloss', \n",
      "}"
     ],
     "language": "python",
     "metadata": {},
     "outputs": [],
     "prompt_number": 1
    },
    {
     "cell_type": "markdown",
     "metadata": {},
     "source": [
      "Now, we load the classifiers, data and features."
     ]
    },
    {
     "cell_type": "code",
     "collapsed": false,
     "input": [
      "classifier_general = pickle.load(open(\"{0}xgb_params_no_events.p\".format(CLF_PATH),'rb'))\n",
      "classifier_events = pickle.load(open(\"{0}xgb_params_events.p\".format(CLF_PATH), 'rb'))\n",
      "classifier_general['objective'] = 'multi:softprob'\n",
      "classifier_events['objective'] = 'multi:softprob'\n",
      "\n",
      "train = pd.read_csv('{0}gender_age_train.csv'.format(DATA_PATH))\n",
      "test = pd.read_csv('{0}gender_age_test.csv'.format(DATA_PATH))\n",
      "\n",
      "train_ids = pickle.load(open('{0}train_event_ids'.format(DATA_PATH), 'rb'))\n",
      "test_ids = pickle.load(open('{0}test_event_ids'.format(DATA_PATH), 'rb'))\n",
      "\n",
      "features_general = sparse.csr_matrix(pickle.load(open('{0}phone_model_features.p'.format(FEATURE_PATH), 'rb')))\n",
      "features_event = pickle.load(open('{0}feature_sel_lvl0_events.p'.format(FEATURE_PATH), 'rb'))"
     ],
     "language": "python",
     "metadata": {},
     "outputs": [],
     "prompt_number": 2
    },
    {
     "cell_type": "heading",
     "level": 2,
     "metadata": {},
     "source": [
      "Fitting of classifiers"
     ]
    },
    {
     "cell_type": "markdown",
     "metadata": {},
     "source": [
      "Implement a method to fit an XGB model and predict probabilities."
     ]
    },
    {
     "cell_type": "code",
     "collapsed": false,
     "input": [
      "def fit_predict_xgb(X_train, X_test, y, hyper_params, fit_params):\n",
      "    labels = LabelEncoder().fit_transform(y)\n",
      "    dtrain = xgb.DMatrix(X_train, labels)\n",
      "    dtest = xgb.DMatrix(X_test)\n",
      "    \n",
      "    gbm = xgb.train(hyper_params, dtrain, evals = [(dtrain, 'train')], **fit_params )\n",
      "    return gbm.predict(dtest)"
     ],
     "language": "python",
     "metadata": {},
     "outputs": [],
     "prompt_number": 3
    },
    {
     "cell_type": "markdown",
     "metadata": {},
     "source": [
      "Fit classifier and generate predictions on all devices. "
     ]
    },
    {
     "cell_type": "code",
     "collapsed": false,
     "input": [
      "prediction_general = fit_predict_xgb(features_general[:len(train)], \n",
      "                                    features_general[len(train):], \n",
      "                                    train['group'], classifier_general, FIT_PARAMS_GENERAL)\n",
      "\n",
      "prediction_events = fit_predict_xgb(features_event[:len(train_ids)], \n",
      "                                     features_event[len(train_ids):],\n",
      "                                     train[train['device_id'].isin(train_ids)]['group'], classifier_events, FIT_PARAMS_EVENTS)"
     ],
     "language": "python",
     "metadata": {},
     "outputs": [
      {
       "output_type": "stream",
       "stream": "stderr",
       "text": [
        "[0]\ttrain-mlogloss:2.480607\n",
        "[50]\ttrain-mlogloss:2.373757\n"
       ]
      },
      {
       "output_type": "stream",
       "stream": "stderr",
       "text": [
        "[100]\ttrain-mlogloss:2.339313\n",
        "[119]\ttrain-mlogloss:2.331777\n"
       ]
      },
      {
       "output_type": "stream",
       "stream": "stderr",
       "text": [
        "/home/christian/.local/lib/python3.5/site-packages/xgboost/core.py:840: VisibleDeprecationWarning: using a non-integer number instead of an integer will result in an error in the future\n",
        "  preds = preds.reshape(nrow, preds.size / nrow)\n",
        "[0]\ttrain-mlogloss:2.472073\n"
       ]
      },
      {
       "output_type": "stream",
       "stream": "stderr",
       "text": [
        "[100]\ttrain-mlogloss:1.950904\n",
        "[200]\ttrain-mlogloss:1.797024\n"
       ]
      },
      {
       "output_type": "stream",
       "stream": "stderr",
       "text": [
        "[300]\ttrain-mlogloss:1.707134\n",
        "[400]\ttrain-mlogloss:1.638839\n"
       ]
      },
      {
       "output_type": "stream",
       "stream": "stderr",
       "text": [
        "[500]\ttrain-mlogloss:1.580103\n",
        "[549]\ttrain-mlogloss:1.552651\n"
       ]
      }
     ],
     "prompt_number": 4
    },
    {
     "cell_type": "heading",
     "level": 2,
     "metadata": {},
     "source": [
      "Regularization of probabilities and submission"
     ]
    },
    {
     "cell_type": "markdown",
     "metadata": {},
     "source": [
      "Now, we need a method to regularize the probabilities and generate a dataframe."
     ]
    },
    {
     "cell_type": "code",
     "collapsed": false,
     "input": [
      "def prediction_frame(ids, y):\n",
      "    y_cut = [[max(EPS, proba) for proba in proba_vector] for proba_vector in y]\n",
      "    df = pd.DataFrame(y_cut, columns = cats)\n",
      "\n",
      "    default_vals = np.empty((test.shape[0], len(cats)))\n",
      "    default_vals.fill(EPS)\n",
      "    default_df = pd.DataFrame(default_vals, columns = cats)\n",
      "\n",
      "    df.insert(0, 'device_id',  ids.astype(str))\n",
      "    return df.set_index('device_id')"
     ],
     "language": "python",
     "metadata": {},
     "outputs": [],
     "prompt_number": 5
    },
    {
     "cell_type": "markdown",
     "metadata": {},
     "source": [
      "Using this auxiliary function, we now generate the final submission frame."
     ]
    },
    {
     "cell_type": "code",
     "collapsed": false,
     "input": [
      "df_general = prediction_frame(test['device_id'], prediction_general)\n",
      "df_events = prediction_frame(test_ids, prediction_events)\n",
      "df_total = df_events.combine_first(df_general)"
     ],
     "language": "python",
     "metadata": {},
     "outputs": [],
     "prompt_number": 7
    },
    {
     "cell_type": "code",
     "collapsed": false,
     "input": [
      "df_total.to_csv(\"../../../input/subm.csv\", index = True, float_format = FLOAT_FORMAT)"
     ],
     "language": "python",
     "metadata": {},
     "outputs": [],
     "prompt_number": 8
    },
    {
     "cell_type": "code",
     "collapsed": false,
     "input": [],
     "language": "python",
     "metadata": {},
     "outputs": []
    }
   ],
   "metadata": {}
  }
 ]
}