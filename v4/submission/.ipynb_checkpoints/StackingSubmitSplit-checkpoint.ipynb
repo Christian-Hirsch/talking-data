{
 "metadata": {
  "name": "",
  "signature": "sha256:01bbf30515c720f64e55809d84ed9909432ea3a03af04ec6539979ce04a0978f"
 },
 "nbformat": 3,
 "nbformat_minor": 0,
 "worksheets": [
  {
   "cells": [
    {
     "cell_type": "heading",
     "level": 1,
     "metadata": {},
     "source": [
      "TalkingData -- Submission"
     ]
    },
    {
     "cell_type": "markdown",
     "metadata": {},
     "source": [
      "In this notebook we generate the submission, which combines the classifiers for the devices with and the devices without events."
     ]
    },
    {
     "cell_type": "code",
     "collapsed": false,
     "input": [
      "import numpy as np\n",
      "import pandas as pd\n",
      "import pickle\n",
      "import xgboost as xgb\n",
      "    \n",
      "from scipy import sparse\n",
      "from sklearn.preprocessing import Imputer, LabelEncoder, OneHotEncoder, StandardScaler\n",
      "from sklearn.pipeline import Pipeline\n",
      "\n",
      "from xgboost.sklearn import XGBClassifier\n",
      "\n",
      "#path to data, features and classifiers\n",
      "DATA_PATH = \"../../../input/\"\n",
      "FEATURE_PATH = \"../../../features/\"\n",
      "CLF_PATH = \"../../../models/\"\n",
      "\n",
      "#random seed\n",
      "SEED = 1747\n",
      "\n",
      "#do not allow probabilities below EPS\n",
      "EPS = 0.001\n",
      "\n",
      "#age_gender categories\n",
      "cats = ['F23-', 'F24-26', 'F27-28', 'F29-32', 'F33-42', 'F43+', 'M22-', 'M23-26', 'M27-28', 'M29-31', 'M32-38', 'M39+']\n",
      "\n",
      "#float format used in the submission file\n",
      "FLOAT_FORMAT = '%.3f'"
     ],
     "language": "python",
     "metadata": {},
     "outputs": [],
     "prompt_number": 2
    },
    {
     "cell_type": "markdown",
     "metadata": {},
     "source": [
      "Now, we load the classifiers, data and features."
     ]
    },
    {
     "cell_type": "code",
     "collapsed": false,
     "input": [
      "classifier_general = pickle.load(open(\"{0}xgb_lvl0_no_events.p\".format(CLF_PATH),'rb'))\n",
      "weights_events = pickle.load(open(\"{0}lvl1_weights.p\".format(CLF_PATH), 'rb'))\n",
      "predictions_events = pickle.load\n",
      "\n",
      "train = pd.read_csv('{0}gender_age_train.csv'.format(DATA_PATH))\n",
      "test = pd.read_csv('{0}gender_age_test.csv'.format(DATA_PATH))\n",
      "\n",
      "train_ids = pickle.load(open('{0}train_event_ids'.format(DATA_PATH), 'rb'))\n",
      "test_ids = pickle.load(open('{0}test_event_ids'.format(DATA_PATH), 'rb'))\n",
      "\n",
      "features_general = sparse.csr_matrix(pickle.load(open('{0}phone_model_features.p'.format(FEATURE_PATH), 'rb')))\n",
      "features_event = pickle.load(open('{0}features_lvl1_events.p'.format(FEATURE_PATH), 'rb'))"
     ],
     "language": "python",
     "metadata": {},
     "outputs": [],
     "prompt_number": 12
    },
    {
     "cell_type": "heading",
     "level": 2,
     "metadata": {},
     "source": [
      "Fitting of classifiers"
     ]
    },
    {
     "cell_type": "markdown",
     "metadata": {},
     "source": [
      "Fit classifier and generate predictions on all devices. "
     ]
    },
    {
     "cell_type": "code",
     "collapsed": false,
     "input": [
      "labels_general = LabelEncoder().fit_transform(train['group'])\n",
      "classifier_general.fit(features_general[:len(train), :], labels_general)\n",
      "prediction_general = classifier_general.predict_proba(features_general[len(train):, :])"
     ],
     "language": "python",
     "metadata": {},
     "outputs": [
      {
       "output_type": "stream",
       "stream": "stderr",
       "text": [
        "/home/christian/.local/lib/python3.5/site-packages/xgboost/core.py:840: VisibleDeprecationWarning: using a non-integer number instead of an integer will result in an error in the future\n",
        "  preds = preds.reshape(nrow, preds.size / nrow)\n"
       ]
      }
     ],
     "prompt_number": 3
    },
    {
     "cell_type": "markdown",
     "metadata": {},
     "source": [
      "Now, we perform the fitting of the neural network and generate predictions."
     ]
    },
    {
     "cell_type": "code",
     "collapsed": false,
     "input": [
      "labels_events = LabelEncoder().fit_transform(train[train['device_id'].isin(train_ids)]['group'])\n",
      "classifier_events.fit(features_event[:len(train_ids), :], labels_events)\n",
      "prediction_events = classifier_events.predict_proba(features_event[len(train_ids):, :])"
     ],
     "language": "python",
     "metadata": {},
     "outputs": [
      {
       "output_type": "stream",
       "stream": "stderr",
       "text": [
        "/home/christian/.local/lib/python3.5/site-packages/xgboost/core.py:840: VisibleDeprecationWarning: using a non-integer number instead of an integer will result in an error in the future\n",
        "  preds = preds.reshape(nrow, preds.size / nrow)\n"
       ]
      }
     ],
     "prompt_number": 9
    },
    {
     "cell_type": "heading",
     "level": 2,
     "metadata": {},
     "source": [
      "Regularization of probabilities and submission"
     ]
    },
    {
     "cell_type": "markdown",
     "metadata": {},
     "source": [
      "Now, we need a method to regularize the probabilities and generate a dataframe."
     ]
    },
    {
     "cell_type": "code",
     "collapsed": false,
     "input": [
      "def prediction_frame(ids, y):\n",
      "    y_cut = [[max(EPS, proba) for proba in proba_vector] for proba_vector in y]\n",
      "    df = pd.DataFrame(y_cut, columns = cats)\n",
      "\n",
      "    default_vals = np.empty((test.shape[0], len(cats)))\n",
      "    default_vals.fill(EPS)\n",
      "    default_df = pd.DataFrame(default_vals, columns = cats)\n",
      "\n",
      "    df.insert(0, 'device_id',  ids.astype(str))\n",
      "    return df.set_index('device_id')"
     ],
     "language": "python",
     "metadata": {},
     "outputs": [],
     "prompt_number": 10
    },
    {
     "cell_type": "markdown",
     "metadata": {},
     "source": [
      "Using this auxiliary function, we now generate the final submission frame."
     ]
    },
    {
     "cell_type": "code",
     "collapsed": false,
     "input": [
      "df_general = prediction_frame(test['device_id'], prediction_general)\n",
      "df_events = prediction_frame(test_ids, prediction_events)\n",
      "df_total = df_events.combine_first(df_general)"
     ],
     "language": "python",
     "metadata": {},
     "outputs": [],
     "prompt_number": 13
    },
    {
     "cell_type": "code",
     "collapsed": false,
     "input": [
      "df_total.to_csv(\"../../../input/submV3.csv\", index = True, float_format = FLOAT_FORMAT)"
     ],
     "language": "python",
     "metadata": {},
     "outputs": [],
     "prompt_number": 42
    },
    {
     "cell_type": "code",
     "collapsed": false,
     "input": [],
     "language": "python",
     "metadata": {},
     "outputs": []
    }
   ],
   "metadata": {}
  }
 ]
}