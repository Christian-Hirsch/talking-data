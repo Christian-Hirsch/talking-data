{
 "metadata": {
  "name": "",
  "signature": "sha256:eca1023aca965f996d7cb61637cd1e30fc3da9c0fa5fdf27f1dda75f63afb291"
 },
 "nbformat": 3,
 "nbformat_minor": 0,
 "worksheets": [
  {
   "cells": [
    {
     "cell_type": "heading",
     "level": 1,
     "metadata": {},
     "source": [
      "TalkingData -- Feature Importance subclass of devices with events"
     ]
    },
    {
     "cell_type": "markdown",
     "metadata": {},
     "source": [
      "In this notebook, we explore the predictive power of the features via xgb. We restrict to devices for which event information is available. At the end, we use feature importances to keep only features of high predictive power."
     ]
    },
    {
     "cell_type": "code",
     "collapsed": false,
     "input": [
      "%matplotlib inline\n",
      "import matplotlib.patches as mpatches\n",
      "import matplotlib.pylab as plt\n",
      "import numpy as np\n",
      "import operator\n",
      "import pandas as pd\n",
      "import pickle\n",
      "import xgboost as xgb\n",
      "\n",
      "from scipy import sparse\n",
      "from sklearn.preprocessing import LabelEncoder\n",
      "from sklearn.cross_validation import train_test_split\n",
      "from xgboost.sklearn import XGBClassifier\n",
      "\n",
      "#path to data, features and models\n",
      "DATA_PATH = \"../../../input/\"\n",
      "FEATURE_PATH = \"../../../features/\"\n",
      "CLF_PATH = \"../../../models/\"\n",
      "\n",
      "#only features whose scores is larger than IMPORTANCE_THRESH ARE SELECTED\n",
      "IMPORTANCE_THRESH = 1\n",
      "\n",
      "#number of features shown in the importance plot\n",
      "FEAT_NUM_PLOT = 10\n",
      "\n",
      "#seed for randomness\n",
      "SEED = 1747\n",
      "np.random.seed(SEED)\n",
      "\n",
      "#number of bars to show in importance plot\n",
      "NBAR = 30\n",
      "\n",
      "\n",
      "############################################\n",
      "###XGB PARAMETERS\n",
      "############################################\n",
      "\n",
      "#parameters for xgb fitting\n",
      "FIT_PARAMS = {\n",
      "'verbose_eval': 50, \n",
      "'early_stopping_rounds': 10,\n",
      "'num_boost_round': 2000,\n",
      "}\n",
      "\n",
      "#params for xgb\n",
      "HYPER_PARAMS = {\n",
      "\"objective\": \"multi:softprob\",\n",
      "\"num_class\": 12,\n",
      "'eval_metric': 'mlogloss', \n",
      "}\n",
      "\n",
      "#params for xgb\n",
      "HYPER_PARAMS = dict(HYPER_PARAMS , **{ 'max_depth': 4.0,'colsample_bytree': 0.35,  'subsample': 0.7,  'reg_alpha': 0.34, \n",
      "                                      'seed': 1747, 'gamma': 2.07e-07,  'n_estimators': 300,'nthread': 2,  'reg_lambda': 0, \n",
      "                                      'learning_rate': 0.018, 'min_child_weight': 0.044, 'max_delta_step': 3.0})"
     ],
     "language": "python",
     "metadata": {},
     "outputs": [],
     "prompt_number": 14
    },
    {
     "cell_type": "markdown",
     "metadata": {},
     "source": [
      "We load the group labels and the features generated in previous notebooks."
     ]
    },
    {
     "cell_type": "code",
     "collapsed": false,
     "input": [
      "train = pd.read_csv('{0}gender_age_train.csv'.format(DATA_PATH)).loc[:, ['device_id', 'group']]\n",
      "test = pd.read_csv('{0}gender_age_test.csv'.format(DATA_PATH)).loc[:, ['device_id']]\n",
      "train_test = pd.DataFrame(pd.concat([train, test], axis = 0)['device_id'])\n",
      "\n",
      "pd_features = pickle.load(open('{0}phone_model_features_event.p'.format(FEATURE_PATH), 'rb'))\n",
      "pd_features_names = pickle.load(open('{0}phone_model_features_names_event.p'.format(FEATURE_PATH), 'rb'))\n",
      "\n",
      "event_features = pickle.load(open('{0}event_features_noloc.p'.format(FEATURE_PATH), 'rb'))\n",
      "event_features_names = pickle.load(open('{0}event_features_noloc_names.p'.format(FEATURE_PATH), 'rb'))\n",
      "\n",
      "bag_of_apps = pickle.load(open('{0}app_features.p'.format(FEATURE_PATH), 'rb'))\n",
      "bag_of_apps_names = pickle.load(open('{0}app_features_names.p'.format(FEATURE_PATH), 'rb'))\n",
      "\n",
      "nnet_features = pickle.load(open('{0}nnet_features2.p'.format(FEATURE_PATH), 'rb'))\n",
      "nnet_features_names = pickle.load(open('{0}nnet_names.p'.format(FEATURE_PATH), 'rb'))"
     ],
     "language": "python",
     "metadata": {},
     "outputs": [],
     "prompt_number": 11
    },
    {
     "cell_type": "markdown",
     "metadata": {},
     "source": [
      "From the training data we select only those indices that have at least some events associated with them."
     ]
    },
    {
     "cell_type": "code",
     "collapsed": false,
     "input": [
      "train_ids = pickle.load(open('{0}train_event_ids'.format(DATA_PATH), 'rb'))\n",
      "test_ids  = pickle.load(open('{0}test_event_ids'.format(DATA_PATH), 'rb'))\n",
      "train_test_ids = list(train_ids) + list(test_ids)\n",
      "train_mask = train_test['device_id'].isin(train_test_ids)\n",
      "train_test_idxs = np.where(train_mask)[0]\n",
      "\n",
      "train_test_event = train_test.iloc[train_test_idxs, :]\n",
      "labels = LabelEncoder().fit_transform(train[train_mask.values[:train.shape[0]]]['group'])"
     ],
     "language": "python",
     "metadata": {},
     "outputs": [],
     "prompt_number": 3
    },
    {
     "cell_type": "markdown",
     "metadata": {},
     "source": [
      "The features extracted in the previous steps are stacked together and a validation set is created."
     ]
    },
    {
     "cell_type": "code",
     "collapsed": false,
     "input": [
      "features = sparse.hstack([pd_features, event_features,  nnet_features,  bag_of_apps])\n",
      "###LOAD FEATURES FROM PREVIOUS ITERATIONS\n",
      "#features = pickle.load(open(\"{0}feature_sel_lvl0_events.p\".format(FEATURE_PATH), 'rb'))\n",
      "\n",
      "names = np.hstack([pd_features_names, event_features_names, nnet_features_names, bag_of_apps_names])\n",
      "\n",
      "X_train, X_val, y_train, y_val = train_test_split(sparse.csr_matrix(features)[:len(train_ids), :], \n",
      "                                                  labels, stratify = labels, train_size = 0.8, random_state = SEED)\n",
      "print(features.shape)\n",
      "print(names.shape)"
     ],
     "language": "python",
     "metadata": {},
     "outputs": [
      {
       "output_type": "stream",
       "stream": "stdout",
       "text": [
        "(58503, 4620)\n",
        "(4620,)\n"
       ]
      }
     ],
     "prompt_number": 12
    },
    {
     "cell_type": "markdown",
     "metadata": {},
     "source": [
      "This training data is used as input for the xgb classifier."
     ]
    },
    {
     "cell_type": "code",
     "collapsed": false,
     "input": [
      "dtrain = xgb.DMatrix(X_train, y_train)\n",
      "dvalid = xgb.DMatrix(X_val, y_val)\n",
      "\n",
      "gbm = xgb.train(HYPER_PARAMS, dtrain, evals = [(dtrain, 'train'), (dvalid, 'eval')], **FIT_PARAMS )"
     ],
     "language": "python",
     "metadata": {},
     "outputs": [
      {
       "output_type": "stream",
       "stream": "stderr",
       "text": [
        "Will train until eval error hasn't decreased in 10 rounds.\n",
        "[0]\ttrain-mlogloss:2.472120\teval-mlogloss:2.473637\n"
       ]
      },
      {
       "output_type": "stream",
       "stream": "stderr",
       "text": [
        "[50]\ttrain-mlogloss:2.097248\teval-mlogloss:2.160337\n",
        "[100]\ttrain-mlogloss:1.932289\teval-mlogloss:2.047235\n"
       ]
      },
      {
       "output_type": "stream",
       "stream": "stderr",
       "text": [
        "[150]\ttrain-mlogloss:1.834830\teval-mlogloss:1.996931\n",
        "[200]\ttrain-mlogloss:1.766187\teval-mlogloss:1.971833\n"
       ]
      },
      {
       "output_type": "stream",
       "stream": "stderr",
       "text": [
        "[250]\ttrain-mlogloss:1.711764\teval-mlogloss:1.958266\n",
        "[300]\ttrain-mlogloss:1.665693\teval-mlogloss:1.950796\n"
       ]
      },
      {
       "output_type": "stream",
       "stream": "stderr",
       "text": [
        "[350]\ttrain-mlogloss:1.625113\teval-mlogloss:1.946868\n",
        "[400]\ttrain-mlogloss:1.588336\teval-mlogloss:1.944368\n"
       ]
      },
      {
       "output_type": "stream",
       "stream": "stderr",
       "text": [
        "[450]\ttrain-mlogloss:1.553331\teval-mlogloss:1.942596\n",
        "[500]\ttrain-mlogloss:1.520472\teval-mlogloss:1.941656\n"
       ]
      },
      {
       "output_type": "stream",
       "stream": "stderr",
       "text": [
        "[550]\ttrain-mlogloss:1.488630\teval-mlogloss:1.940379\n",
        "Stopping. Best iteration:\n",
        "[562]\ttrain-mlogloss:1.481375\teval-mlogloss:1.940198\n",
        "\n"
       ]
      }
     ],
     "prompt_number": 15
    },
    {
     "cell_type": "markdown",
     "metadata": {},
     "source": [
      "Now, we use importance scores to identify powerful predictors. The phone brand and device model are of crucial importance. Apart from that neural network  dominate."
     ]
    },
    {
     "cell_type": "code",
     "collapsed": false,
     "input": [
      "df = pd.Series(gbm.get_fscore(), name = 'fscore').sort_values(ascending = False)\n",
      "\n",
      "#add true column names\n",
      "feat_num = [int(col_idx.replace('f','')) for col_idx in df.index]\n",
      "df.index = names[feat_num]\n",
      "\n",
      "#set color and draw chart\n",
      "condlist = [['NN' in str(word) for word in df.index]]\n",
      "choicelist = [['r'] * len(df.index)]\n",
      "cols = np.select(condlist, choicelist, default = 'w')\n",
      "\n",
      "ax = df.iloc[NBAR::-1].plot(kind = 'barh', figsize = (20, 15), color = cols[NBAR::-1])\n",
      "\n",
      "\n",
      "ax.set_title('Importance Scores')\n",
      "red_patch = mpatches.Patch(color='r', label = 'Neural network features')\n",
      "ax.legend(handles=[red_patch], bbox_to_anchor=(1, 0.9))"
     ],
     "language": "python",
     "metadata": {},
     "outputs": [
      {
       "metadata": {},
       "output_type": "pyout",
       "prompt_number": 17,
       "text": [
        "<matplotlib.legend.Legend at 0x7f71a22b3208>"
       ]
      },
      {
       "metadata": {},
       "output_type": "display_data",
       "png": "[encoded data removed]",
       "text": [
        "<matplotlib.figure.Figure at 0x7f71a22b35c0>"
       ]
      }
     ],
     "prompt_number": 17
    },
    {
     "cell_type": "markdown",
     "metadata": {},
     "source": [
      "The most important features as well as their indices are persisted to disk, so that they can be used as input for further classifiers."
     ]
    },
    {
     "cell_type": "code",
     "collapsed": false,
     "input": [
      "relevant_features = sparse.csr_matrix(features)[:, feat_num[: np.where(df == 1)[0][0]]]\n",
      "pickle.dump(relevant_features, open(\"{0}feature_sel_lvl0_events.p\".format(FEATURE_PATH), 'wb'))\n",
      "relevant_features.shape"
     ],
     "language": "python",
     "metadata": {},
     "outputs": [
      {
       "metadata": {},
       "output_type": "pyout",
       "prompt_number": 19,
       "text": [
        "(58503, 2782)"
       ]
      }
     ],
     "prompt_number": 19
    },
    {
     "cell_type": "code",
     "collapsed": false,
     "input": [],
     "language": "python",
     "metadata": {},
     "outputs": []
    }
   ],
   "metadata": {}
  }
 ]
}